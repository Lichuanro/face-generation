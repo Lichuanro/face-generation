{
 "cells": [
  {
   "cell_type": "markdown",
   "metadata": {},
   "source": [
    "# Face Generation using GAN   \n",
    "I'll build a generative adversarial network (GAN) to generate face, the network is trained on [CelebFaces Attributes Dataset (CelebA)](http://mmlab.ie.cuhk.edu.hk/projects/CelebA.html) dataset    \n",
    "       \n",
    "Technically GANs consist of a constant push between two networks (thus “adversarial”): a generator (G) and discriminator (D). Given a set of training examples (such as images), we can imagine that there is an underlying distribution (x) that governs them. With GANs, G will generate outputs and D will decide if they come from the same distribution of the the training set or not.    \n",
    "![](./img/gan.png)   \n",
    "( a simple GAN model )"
   ]
  },
  {
   "cell_type": "code",
   "execution_count": 1,
   "metadata": {
    "collapsed": true
   },
   "outputs": [],
   "source": [
    "import os\n",
    "import numpy as np\n",
    "import matplotlib.pyplot as plt\n",
    "import cv2\n",
    "from glob import glob\n",
    "import tensorflow as tf\n",
    "\n",
    "%matplotlib inline"
   ]
  },
  {
   "cell_type": "code",
   "execution_count": 2,
   "metadata": {
    "collapsed": true
   },
   "outputs": [],
   "source": [
    "dataset_path = '/input'\n",
    "img_paths = [glob(os.path.join(dataset_path, 'img_align_celeba/*.jpg')) for path in os.listdir(dataset_path)]"
   ]
  },
  {
   "cell_type": "markdown",
   "metadata": {},
   "source": [
    "### Define some help function to load the images"
   ]
  },
  {
   "cell_type": "code",
   "execution_count": 3,
   "metadata": {
    "collapsed": true
   },
   "outputs": [],
   "source": [
    "def get_image(image_path, width, height):\n",
    "    image = plt.imread(image_path)\n",
    "\n",
    "    if image.size != (width, height):\n",
    "        # Remove most pixels that aren't part of a face\n",
    "        face_width = face_height = 108\n",
    "        i = (image.shape[0] - face_width) // 2\n",
    "        j = (image.shape[1] - face_height) // 2\n",
    "        image = image[i:i+face_width, j:j+face_height]\n",
    "        image = cv2.resize(image, (width, height))\n",
    "\n",
    "    return image\n",
    "\n",
    "\n",
    "def get_batch(image_files, width, height):\n",
    "    data_batch = np.array(\n",
    "        [get_image(sample_file, width, height) for sample_file in image_files]).astype(np.float32)\n",
    "\n",
    "    # Make sure the images are in 4 dimensions\n",
    "    if len(data_batch.shape) < 4:\n",
    "        data_batch = data_batch.reshape(data_batch.shape + (1,))\n",
    "\n",
    "    return data_batch"
   ]
  },
  {
   "cell_type": "code",
   "execution_count": 4,
   "metadata": {
    "collapsed": true
   },
   "outputs": [],
   "source": [
    "img_paths = img_paths[0]"
   ]
  },
  {
   "cell_type": "code",
   "execution_count": 5,
   "metadata": {
    "collapsed": false
   },
   "outputs": [
    {
     "data": {
      "text/plain": [
       "<matplotlib.image.AxesImage at 0x7fc25bdd0710>"
      ]
     },
     "execution_count": 5,
     "metadata": {},
     "output_type": "execute_result"
    },
    {
     "data": {
      "image/png": "[encoded data removed]",
      "text/plain": [
       "<matplotlib.figure.Figure at 0x7fc25b195a58>"
      ]
     },
     "metadata": {},
     "output_type": "display_data"
    }
   ],
   "source": [
    "img = get_image(img_paths[0], 28, 28)\n",
    "plt.imshow(img)"
   ]
  },
  {
   "cell_type": "markdown",
   "metadata": {},
   "source": [
    "## Build the GAN   \n"
   ]
  },
  {
   "cell_type": "markdown",
   "metadata": {},
   "source": [
    "### Input Placeholder   \n",
    "In this function we'll get the real input placeholder **inputs_real** and fake input placeholder **inputs_z**"
   ]
  },
  {
   "cell_type": "code",
   "execution_count": 6,
   "metadata": {
    "collapsed": true
   },
   "outputs": [],
   "source": [
    "def get_input(image_width, image_height, image_channels, z_dim):\n",
    "    inputs_real = tf.placeholder(tf.float32, (None, image_width, image_height, image_channels), name='inputs_real') \n",
    "    inputs_z = tf.placeholder(tf.float32, (None, z_dim), name='inputs_z')\n",
    "    \n",
    "    return inputs_real, inputs_z"
   ]
  },
  {
   "cell_type": "markdown",
   "metadata": {},
   "source": [
    "### Define the Generator   \n",
    "The generator should return 28x28x3 images    \n",
    "the architecture of generator is shown below\n",
    "![](./img/generator.png)    \n",
    "And we should use a leaky ReLU to allow gradients to flow backwards through the layer unimpeded. A leaky ReLU is like a normal ReLU, except that there is a small non-zero output for negative input values.    \n",
    "![](./img/leaky-relu.png)"
   ]
  },
  {
   "cell_type": "code",
   "execution_count": 7,
   "metadata": {
    "collapsed": true
   },
   "outputs": [],
   "source": [
    "def generator(z, output_dim, reuse=False, alpha=0.2, training=True):\n",
    "    with tf.variable_scope('generator', reuse=reuse):\n",
    "        # First fully connected layer\n",
    "        x1 = tf.layers.dense(z, 7*7*512)\n",
    "        # Reshape it to start the convolutional stack\n",
    "        x1 = tf.reshape(x1, (-1, 7, 7, 512))\n",
    "        x1 = tf.layers.batch_normalization(x1, training=training)\n",
    "        x1 = tf.maximum(alpha * x1, x1)\n",
    "        # 7x7x512 now\n",
    "        \n",
    "        x2 = tf.layers.conv2d_transpose(x1, 256, 5, strides=2, padding='same')\n",
    "        x2 = tf.layers.batch_normalization(x2, training=training)\n",
    "        x2 = tf.maximum(alpha * x2, x2)\n",
    "        # 14x14x256 now\n",
    "        \n",
    "        # Output layer\n",
    "        logits = tf.layers.conv2d_transpose(x2, output_dim, 5, strides=2, padding='same')\n",
    "        # 28x28x3 now\n",
    "        \n",
    "        out = tf.tanh(logits)\n",
    "        \n",
    "        return out"
   ]
  },
  {
   "cell_type": "markdown",
   "metadata": {},
   "source": [
    "### Define the Discriminator  \n",
    "It's a convolutional classifier. The input to the discriminator are 32x32x3 tensors/images. I add a few convolutional layers, then a fully connected layer for the output. "
   ]
  },
  {
   "cell_type": "code",
   "execution_count": 8,
   "metadata": {
    "collapsed": true
   },
   "outputs": [],
   "source": [
    "def discriminator(x, reuse=False, alpha=0.2):\n",
    "    with tf.variable_scope('discriminator', reuse=reuse):\n",
    "        # Input layer is 28x28x3\n",
    "        x1 = tf.layers.conv2d(x, 64, 5, strides=2, padding='same')\n",
    "        relu1 = tf.maximum(alpha * x1, x1)\n",
    "        # 14x14x64\n",
    "        \n",
    "        x2 = tf.layers.conv2d(relu1, 128, 5, strides=2, padding='same')\n",
    "        bn2 = tf.layers.batch_normalization(x2, training=True)\n",
    "        relu2 = tf.maximum(alpha * bn2, bn2)\n",
    "        # 7x7x128\n",
    "\n",
    "        # Flatten it\n",
    "        flat = tf.reshape(relu2, (-1, 7*7*256))\n",
    "        logits = tf.layers.dense(flat, 1)\n",
    "        out = tf.sigmoid(logits)\n",
    "        \n",
    "        return out, logits"
   ]
  },
  {
   "cell_type": "markdown",
   "metadata": {},
   "source": [
    "### Calculate the loss"
   ]
  },
  {
   "cell_type": "code",
   "execution_count": 9,
   "metadata": {
    "collapsed": true
   },
   "outputs": [],
   "source": [
    "def model_loss(input_real, input_z, output_dim, alpha=0.2):\n",
    "    \n",
    "    g_model = generator(input_z, output_dim, alpha=alpha)\n",
    "    d_model_real, d_logits_real = discriminator(input_real, alpha=alpha)\n",
    "    d_model_fake, d_logits_fake = discriminator(g_model, reuse=True, alpha=alpha)\n",
    "\n",
    "    d_loss_real = tf.reduce_mean(\n",
    "        tf.nn.sigmoid_cross_entropy_with_logits(logits=d_logits_real, labels=tf.ones_like(d_model_real)))\n",
    "    d_loss_fake = tf.reduce_mean(\n",
    "        tf.nn.sigmoid_cross_entropy_with_logits(logits=d_logits_fake, labels=tf.zeros_like(d_model_fake)))\n",
    "    g_loss = tf.reduce_mean(\n",
    "        tf.nn.sigmoid_cross_entropy_with_logits(logits=d_logits_fake, labels=tf.ones_like(d_model_fake)))\n",
    "\n",
    "    d_loss = d_loss_real + d_loss_fake\n",
    "\n",
    "    return d_loss, g_loss"
   ]
  },
  {
   "cell_type": "markdown",
   "metadata": {},
   "source": [
    "### Optimizer"
   ]
  },
  {
   "cell_type": "code",
   "execution_count": 10,
   "metadata": {
    "collapsed": true
   },
   "outputs": [],
   "source": [
    "def model_opt(d_loss, g_loss, learning_rate, beta1):\n",
    "    # Get weights and bias to update\n",
    "    t_vars = tf.trainable_variables()\n",
    "    d_vars = [var for var in t_vars if var.name.startswith('discriminator')]\n",
    "    g_vars = [var for var in t_vars if var.name.startswith('generator')]\n",
    "\n",
    "    # Optimize\n",
    "    with tf.control_dependencies(tf.get_collection(tf.GraphKeys.UPDATE_OPS)):\n",
    "        d_train_opt = tf.train.AdamOptimizer(learning_rate, beta1=beta1).minimize(d_loss, var_list=d_vars)\n",
    "        g_train_opt = tf.train.AdamOptimizer(learning_rate, beta1=beta1).minimize(g_loss, var_list=g_vars)\n",
    "\n",
    "    return d_train_opt, g_train_opt"
   ]
  },
  {
   "cell_type": "markdown",
   "metadata": {},
   "source": [
    "### Get the output during training"
   ]
  },
  {
   "cell_type": "code",
   "execution_count": 11,
   "metadata": {
    "collapsed": true
   },
   "outputs": [],
   "source": [
    "def show_generator_output(sess, n_images, input_z, out_channel_dim):\n",
    "    z_dim = input_z.get_shape().as_list()[-1]\n",
    "    example_z = np.random.uniform(-1, 1, size=[n_images, z_dim])\n",
    "\n",
    "    samples = sess.run(\n",
    "        generator(input_z, out_channel_dim, reuse=True, training=False),\n",
    "        feed_dict={input_z: example_z})\n",
    "    plt.figure()\n",
    "    plt.imshow(samples[0])\n",
    "    plt.show()"
   ]
  },
  {
   "cell_type": "markdown",
   "metadata": {},
   "source": [
    "## Build the Model and Train"
   ]
  },
  {
   "cell_type": "code",
   "execution_count": 12,
   "metadata": {
    "collapsed": true
   },
   "outputs": [],
   "source": [
    "def train(epoch_count, batch_size, z_dim, learning_rate, beta1, get_batches, data_paths, data_shape):\n",
    "    image_channels = 3\n",
    "        \n",
    "    image_width = data_shape[0]\n",
    "    image_height = data_shape[1]\n",
    "    \n",
    "    input_real, input_z = get_input(image_width, image_height, image_channels, z_dim)    \n",
    "    d_loss,g_loss = model_loss(input_real, input_z, image_channels)\n",
    "    d_train_opt, g_train_opt = model_opt(d_loss, g_loss, learning_rate, beta1)\n",
    "    \n",
    "    batch_num = 0\n",
    "    steps = 0\n",
    "    samples, losses = [], []\n",
    "    \n",
    "    g_vars = [var for var in tf.trainable_variables() if var.name.startswith('generator')]\n",
    "\n",
    "    with tf.Session() as sess:\n",
    "        sess.run(tf.global_variables_initializer())\n",
    "        for epoch_i in range(epoch_count):\n",
    "            for batch_images in get_batches(data_paths, batch_size):\n",
    "                # Sample random noise for G\n",
    "                \n",
    "                # Scale images between -1 and 1\n",
    "                batch_images *= 2.0\n",
    "                batch_z = np.random.uniform(-1, 1, size=(batch_size, z_dim)).astype(np.float32)\n",
    "                \n",
    "                # Run optimizers\n",
    "                _ = sess.run(d_train_opt, feed_dict={input_real: batch_images, input_z: batch_z})\n",
    "                _ = sess.run(g_train_opt, feed_dict={input_real: batch_images, input_z: batch_z})\n",
    "                batch_num += 1\n",
    "                steps += 1\n",
    "                \n",
    "                if (batch_num%100 == 0):\n",
    "                    show_generator_output(sess=sess,\n",
    "                                          input_z=input_z,\n",
    "                                          n_images=1,\n",
    "                                          out_channel_dim=image_channels)\n",
    "            \n",
    "                # At the end of each epoch, get the losses and print them out\n",
    "                train_loss_d = sess.run(d_loss, {input_z: batch_z, input_real: batch_images})\n",
    "                train_loss_g = g_loss.eval({input_z: batch_z})\n",
    "\n",
    "                if (steps%20 == 0):\n",
    "                    print(\"Epoch {}/{}...\".format(epoch_i+1, epochs),\n",
    "                          \"Discriminator Loss: {:.4f}...\".format(train_loss_d),\n",
    "                          \"Generator Loss: {:.4f}\".format(train_loss_g))    \n",
    "                # Save losses to view after training\n",
    "                losses.append((train_loss_d, train_loss_g))\n",
    "                \n",
    "        plt.plot(losses)"
   ]
  },
  {
   "cell_type": "code",
   "execution_count": null,
   "metadata": {
    "collapsed": true
   },
   "outputs": [],
   "source": [
    "def get_batches(data_path, batch_size):\n",
    "    IMAGE_MAX_VALUE = 255\n",
    "\n",
    "    current_index = 0\n",
    "    while current_index + batch_size <= len(data_path):\n",
    "        data_batch = get_batch(data_path[current_index:current_index + batch_size], 28, 28)\n",
    "        current_index += batch_size\n",
    "\n",
    "        yield data_batch / IMAGE_MAX_VALUE - 0.5"
   ]
  },
  {
   "cell_type": "code",
   "execution_count": null,
   "metadata": {
    "collapsed": false
   },
   "outputs": [
    {
     "name": "stdout",
     "output_type": "stream",
     "text": [
      "Epoch 1/1... Discriminator Loss: 1.2932... Generator Loss: 16.7810\n",
      "Epoch 1/1... Discriminator Loss: 2.8085... Generator Loss: 2.4810\n",
      "Epoch 1/1... Discriminator Loss: 2.8823... Generator Loss: 0.1752\n",
      "Epoch 1/1... Discriminator Loss: 1.3635... Generator Loss: 1.0143\n"
     ]
    },
    {
     "data": {
      "image/png": "[encoded data removed]",
      "text/plain": [
       "<matplotlib.figure.Figure at 0x7fc25b51ff28>"
      ]
     },
     "metadata": {},
     "output_type": "display_data"
    },
    {
     "name": "stdout",
     "output_type": "stream",
     "text": [
      "Epoch 1/1... Discriminator Loss: 1.9201... Generator Loss: 0.2859\n",
      "Epoch 1/1... Discriminator Loss: 1.4113... Generator Loss: 5.2072\n",
      "Epoch 1/1... Discriminator Loss: 6.7351... Generator Loss: 9.9736\n",
      "Epoch 1/1... Discriminator Loss: 4.0988... Generator Loss: 0.0312\n",
      "Epoch 1/1... Discriminator Loss: 2.6636... Generator Loss: 0.1222\n"
     ]
    },
    {
     "data": {
      "image/png": "[encoded data removed]",
      "text/plain": [
       "<matplotlib.figure.Figure at 0x7fc211f78f60>"
      ]
     },
     "metadata": {},
     "output_type": "display_data"
    },
    {
     "name": "stdout",
     "output_type": "stream",
     "text": [
      "Epoch 1/1... Discriminator Loss: 1.8288... Generator Loss: 1.9441\n",
      "Epoch 1/1... Discriminator Loss: 0.6652... Generator Loss: 1.4276\n"
     ]
    }
   ],
   "source": [
    "batch_size = 128\n",
    "z_dim = 200\n",
    "learning_rate = 0.002\n",
    "beta1 = 0.5\n",
    "\n",
    "epochs = 1\n",
    "\n",
    "with tf.Graph().as_default():\n",
    "    train(epochs, batch_size, z_dim, learning_rate, beta1, get_batches, img_paths, [28, 28])"
   ]
  },
  {
   "cell_type": "markdown",
   "metadata": {
    "collapsed": true
   },
   "source": [
    "## Going Deeper    \n",
    "In this mini project I use a simplified [DCGAN](https://arxiv.org/abs/1511.06434), it introduced CNN to the GAN.  However, there still exists the difficulty of training process and the reletively poor performance.   \n",
    "[A blog of Wasserstein GAN](https://zhuanlan.zhihu.com/p/25071913)"
   ]
  }
 ],
 "metadata": {
  "kernelspec": {
   "display_name": "Python 3",
   "language": "python",
   "name": "python3"
  },
  "language_info": {
   "codemirror_mode": {
    "name": "ipython",
    "version": 3
   },
   "file_extension": ".py",
   "mimetype": "text/x-python",
   "name": "python",
   "nbconvert_exporter": "python",
   "pygments_lexer": "ipython3",
   "version": "3.5.2"
  }
 },
 "nbformat": 4,
 "nbformat_minor": 2
}
